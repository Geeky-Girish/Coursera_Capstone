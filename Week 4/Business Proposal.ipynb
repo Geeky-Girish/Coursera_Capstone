{
 "cells": [
  {
   "cell_type": "markdown",
   "metadata": {},
   "source": [
    "# The Battle of Neighborhoods | Business Proposal | Introduction"
   ]
  },
  {
   "cell_type": "markdown",
   "metadata": {},
   "source": [
    "## Introduction:\n",
    "According to https://www.globenewswire.com/:\n",
    "The \"India Multiplex Market, By Screen Type (Classic Vs. Premium), By Region, By Major States, Competition, Forecast & Opportunities, 2014 - 2024\" report has been added to ResearchAndMarkets.com's offering.\n",
    "\n",
    "The Indian Multiplex Market stood at 2950 screens in 2018 and is projected to grow at a CAGR of over 7% to surpass 4500 screens by 2024.\n",
    "\n",
    "Growth in the Indian Multiplex Market can be attributed to increasing youth population, growing urbanization and hence, rising demand for better infrastructure and enhanced facilities in the cinemas across the country which is leading to development of multiplex market in India.\n",
    "\n",
    "Additionally, increasing disposable income of middle-class urban population, especially in tier-I and tier-II cities has led to a shift in consumption pattern from savings to spending owing to which people are willing to pay extra for privacy and comfort. This factor is further pushing the market for multiplex in India.\n",
    "\n",
    "Some of the leading players in the Indian Multiplex Market are PVR Cinemas, INOX Leisure Limited, Carnival Cinemas, Cinepolis India, and SRS Cinemas.\n",
    "\n",
    "\n",
    "\n",
    "## Problem Which Tried to Solve:\n",
    "\n",
    "The major purpose of this project, is to suggest a better neighbourhood in a city for the establishment of maultiplex to the relevant stakeholder.  \n",
    "1. Sorted list of total multiplexes in a paticular neighbourhood\n",
    "2. Find the list of areas in a developing city with little or no Multiplexes\n",
    "\n",
    "\n",
    "\n",
    "## The Location:\n",
    "In India, the Visakhapatnam city also known as the jewel of East Coast is recently crowned as the Executive Capital of Andhra Pradesh. A lot govenment plans are in progress for its further development. Increasing youth population, growing urbanization and hence, rising demand for better infrastructure and enhanced facilities in the cinemas across vi which is leading to development of multiplex market in India.\n",
    "\n",
    "## Foursquare API:\n",
    "This project would use Four-square API as its prime data gathering source as it has a database of millions of places, especially their places API which provides the ability to perform location search, location sharing and details about a business.\n",
    "\n",
    "\n",
    "## Work Flow:\n",
    "Using credentials of Foursquare API features of near-by places of the neighborhoods would be mined. Due to http request limitations the number of places per neighborhood parameter would reasonably be set to 100 and the radius parameter would be set to 500.\n",
    "\n",
    "\n",
    "## Clustering Approach:\n",
    "To compare the similarities of two cities, we decided to explore neighborhoods, segment them, and group them into clusters to find similar neighborhoods . To be able to do that, we need to cluster data which is a form of unsupervised machine learning: k-means clustering algorithm\n",
    "\n",
    "\n",
    "## Libraries Which are Used to Develope the Project:\n",
    "Pandas: For creating and manipulating dataframes.\n",
    "\n",
    "Folium: Python visualization library would be used to visualize the neighborhoods cluster distribution of using interactive leaflet map.\n",
    "  \n",
    "Scikit Learn: For importing k-means clustering.\n",
    "\n",
    "JSON: Library to handle JSON files.\n",
    "\n",
    "\n",
    "Geocoder: To retrieve Location Data.\n",
    "\n",
    "Beautiful Soup and Requests: To scrap and library to handle http requests.\n",
    "\n",
    "Matplotlib: Python Plotting Module."
   ]
  },
  {
   "cell_type": "code",
   "execution_count": null,
   "metadata": {},
   "outputs": [],
   "source": []
  }
 ],
 "metadata": {
  "kernelspec": {
   "display_name": "Python",
   "language": "python",
   "name": "conda-env-python-py"
  },
  "language_info": {
   "codemirror_mode": {
    "name": "ipython",
    "version": 3
   },
   "file_extension": ".py",
   "mimetype": "text/x-python",
   "name": "python",
   "nbconvert_exporter": "python",
   "pygments_lexer": "ipython3",
   "version": "3.6.11"
  }
 },
 "nbformat": 4,
 "nbformat_minor": 4
}
